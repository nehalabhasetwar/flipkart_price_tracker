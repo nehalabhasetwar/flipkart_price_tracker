{
 "cells": [
  {
   "cell_type": "code",
   "execution_count": 1,
   "metadata": {},
   "outputs": [],
   "source": [
    "import requests # used to fetch websites\n",
    "import smtplib # used to send mails\n",
    "from bs4 import BeautifulSoup # used to parse the websites\n",
    "import time #to continuously check for price drop"
   ]
  },
  {
   "cell_type": "code",
   "execution_count": 2,
   "metadata": {},
   "outputs": [],
   "source": [
    "# URL for the product\n",
    "url=\"https://www.flipkart.com/apple-iphone-se-black-64-gb/p/itm832dd5963a08d?pid=MOBFRFXHCKWDAC4A&lid=LSTMOBFRFXHCKWDAC4AEQROVZ&marketplace=FLIPKART&srno=s_1_4&otracker=AS_QueryStore_OrganicAutoSuggest_2_1_na_na_na&otracker1=AS_QueryStore_OrganicAutoSuggest_2_1_na_na_na&fm=SEARCH&iid=b9030b50-6585-4e9b-9a95-5dd92351818b.MOBFRFXHCKWDAC4A.SEARCH&ppt=sp&ppn=sp&ssid=p8ivjtk7b40000001601566705331&qH=0b3f45b266a97d70\""
   ]
  },
  {
   "cell_type": "code",
   "execution_count": 3,
   "metadata": {},
   "outputs": [],
   "source": [
    "# define user agent for headers in the http request. You can get your user agent by typing \"My User Agent\" in google\n",
    "headers = { 'User-Agent': 'Mozilla/5.0 (Windows NT 10.0; Win64; x64) AppleWebKit/537.36 (KHTML, like Gecko) Chrome/85.0.4183.121 Safari/537.36'}"
   ]
  },
  {
   "cell_type": "code",
   "execution_count": 4,
   "metadata": {},
   "outputs": [],
   "source": [
    "# Fetch the webpage with url and http header and store it in variable\n",
    "page = requests.get(url, headers=headers)"
   ]
  },
  {
   "cell_type": "code",
   "execution_count": 5,
   "metadata": {},
   "outputs": [],
   "source": [
    "# Use BeautifulSoup to parse HTML extracted and stored in page variable\n",
    "soup = BeautifulSoup(page.content, 'html.parser')"
   ]
  },
  {
   "cell_type": "code",
   "execution_count": 6,
   "metadata": {},
   "outputs": [],
   "source": [
    "# Let’s try to get the title of the product.\n",
    "title = soup.find(\"span\", {\"class\": \"_35KyD6\"}).get_text()"
   ]
  },
  {
   "cell_type": "code",
   "execution_count": 7,
   "metadata": {},
   "outputs": [],
   "source": [
    "# Let’s try to get the price of the product.\n",
    "price = float(soup.find(\"div\", {\"class\": \"_1vC4OE _3qQ9m1\"}).get_text()[1:].replace(',',''))"
   ]
  },
  {
   "cell_type": "code",
   "execution_count": 8,
   "metadata": {},
   "outputs": [],
   "source": [
    "# Let's assume we want the email sent if price falls below 55,000.\n",
    "# Now let’s enclose everything we have written above to our check_price() function that will check the price of the product on Flipkart.\n",
    "\n",
    "def check_price():\n",
    "    page = requests.get(url, headers=headers)\n",
    "    soup = BeautifulSoup(page.content, 'html.parser')\n",
    "    \n",
    "    title = soup.find(\"span\", {\"class\": \"_35KyD6\"}).get_text()\n",
    "    price = float(soup.find(\"div\", {\"class\": \"_1vC4OE _3qQ9m1\"}).get_text()[1:].replace(',',''))\n",
    "    \n",
    "    print(price)\n",
    "                        \n",
    "    if( price < 55000.0 ): \n",
    "        sendmail()"
   ]
  },
  {
   "cell_type": "code",
   "execution_count": 9,
   "metadata": {},
   "outputs": [],
   "source": [
    "# Lets define an SMTP client session with the name of the host and the port number to send mail.\n",
    "#Since we’ll be using Gmail for sending emails the hostname will be smtp.gmail.com with port number as 587.\n",
    "\n",
    "server = smtplib.SMTP('smtp.gmail.com', 587)"
   ]
  },
  {
   "cell_type": "code",
   "execution_count": 10,
   "metadata": {},
   "outputs": [
    {
     "data": {
      "text/plain": [
       "(250,\n",
       " b'smtp.gmail.com at your service, [2409:4042:2682:3fe9:5010:71cb:425:8808]\\nSIZE 35882577\\n8BITMIME\\nAUTH LOGIN PLAIN XOAUTH2 PLAIN-CLIENTTOKEN OAUTHBEARER XOAUTH\\nENHANCEDSTATUSCODES\\nPIPELINING\\nCHUNKING\\nSMTPUTF8')"
      ]
     },
     "execution_count": 10,
     "metadata": {},
     "output_type": "execute_result"
    }
   ],
   "source": [
    "#Then we’ll send an ehlo() request. Ehlo is basically meant by which servers identify the client.\n",
    "server.ehlo() \n",
    "\n",
    "#After the request, start an SMTP connection in TLS .\n",
    "server.starttls() \n",
    "\n",
    "#re-send ehlo()\n",
    "server.ehlo()"
   ]
  },
  {
   "cell_type": "code",
   "execution_count": 11,
   "metadata": {},
   "outputs": [
    {
     "data": {
      "text/plain": [
       "(235, b'2.7.0 Accepted')"
      ]
     },
     "execution_count": 11,
     "metadata": {},
     "output_type": "execute_result"
    }
   ],
   "source": [
    "#get app password for Gmail to actually send an email. \n",
    "#To do that, go to https://myaccount.google.com/security then click on app passwords,Then choose mail and the device you are in, then generate the password.\n",
    "\n",
    "server.login('Nehalabhasetwar17@gmail.com', 'bqkpatfccfwiunba')"
   ]
  },
  {
   "cell_type": "code",
   "execution_count": 12,
   "metadata": {},
   "outputs": [
    {
     "data": {
      "text/plain": [
       "{}"
      ]
     },
     "execution_count": 12,
     "metadata": {},
     "output_type": "execute_result"
    }
   ],
   "source": [
    "# define the various aspects of the email, like subject and the message body before sending the email.\n",
    "\n",
    "subject = 'Hey! Price fell down'\n",
    "body = 'Check the link ' + url\n",
    "msg = f\"Subject: {subject}\\n\\n{body}\"\n",
    "server.sendmail('Nehalabhasetwar17@gmail.com', 'Nehalabhasetwar17@gmail.com', msg)"
   ]
  },
  {
   "cell_type": "code",
   "execution_count": 13,
   "metadata": {},
   "outputs": [],
   "source": [
    "# let’s enclose everything we have written above to our sendmail() function that will allow for automatic email send when the price falls.\n",
    "\n",
    "def sendmail():\n",
    "    '''Function called when the email needs to be sent '''\n",
    "    server = smtplib.SMTP('smtp.gmail.com', 587) \n",
    "    server.ehlo()\n",
    "    server.starttls() \n",
    "    server.ehlo()\n",
    "    \n",
    "    server.login('Nehalabhasetwar17@gmail.com', 'bqkpatfccfwiunba')\n",
    "    \n",
    "    subject = 'Hey! Price fell down' \n",
    "    body = 'Check the link ' + url \n",
    "    \n",
    "    msg = f\"Subject: {subject}\\n\\n{body}\" \n",
    "    \n",
    "    server.sendmail('Nehalabhasetwar17@gmail.com', 'Nehalabhasetwar17@gmail.com', msg)\n",
    "    \n",
    "    print('Email Sent')\n",
    "    \n",
    "    server.quit() "
   ]
  },
  {
   "cell_type": "code",
   "execution_count": null,
   "metadata": {},
   "outputs": [
    {
     "name": "stdout",
     "output_type": "stream",
     "text": [
      "37900.0\n",
      "Email Sent\n"
     ]
    }
   ],
   "source": [
    "# Automatic checking of price every hour (60*60 seconds). To do that, we’ll take help of sleep function.\n",
    "\n",
    "while(True):\n",
    "    check_price()\n",
    "    time.sleep(60*60)"
   ]
  },
  {
   "cell_type": "code",
   "execution_count": null,
   "metadata": {},
   "outputs": [],
   "source": []
  }
 ],
 "metadata": {
  "kernelspec": {
   "display_name": "Python 3",
   "language": "python",
   "name": "python3"
  },
  "language_info": {
   "codemirror_mode": {
    "name": "ipython",
    "version": 3
   },
   "file_extension": ".py",
   "mimetype": "text/x-python",
   "name": "python",
   "nbconvert_exporter": "python",
   "pygments_lexer": "ipython3",
   "version": "3.7.6"
  }
 },
 "nbformat": 4,
 "nbformat_minor": 4
}
